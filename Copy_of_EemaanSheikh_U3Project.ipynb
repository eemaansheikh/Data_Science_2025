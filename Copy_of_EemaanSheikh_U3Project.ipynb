{
  "nbformat": 4,
  "nbformat_minor": 0,
  "metadata": {
    "colab": {
      "provenance": [],
      "authorship_tag": "ABX9TyN1Vaa45hky/Rp+xnORbdBB",
      "include_colab_link": true
    },
    "kernelspec": {
      "name": "python3",
      "display_name": "Python 3"
    },
    "language_info": {
      "name": "python"
    }
  },
  "cells": [
    {
      "cell_type": "markdown",
      "metadata": {
        "id": "view-in-github",
        "colab_type": "text"
      },
      "source": [
        "<a href=\"https://colab.research.google.com/github/eemaansheikh/Data_Science_2025/blob/main/Copy_of_EemaanSheikh_U3Project.ipynb\" target=\"_parent\"><img src=\"https://colab.research.google.com/assets/colab-badge.svg\" alt=\"Open In Colab\"/></a>"
      ]
    },
    {
      "cell_type": "markdown",
      "source": [
        "In unit 2, we asked \"what's the true proportion of ____?\"\n",
        "\n",
        "In this unit's project, we'll ask \"What's the true average of ____?\" or \"What's the true amount of ____?\"\n",
        "\n",
        "Task:\n",
        "\n",
        "Two parts:\n",
        "\n",
        "Propose a data set that's compatible with a single variable likelihood from pymc. I must approve your submission before you move on to part 2.\n",
        "\n",
        "Create, analyze, and present a model using pymc within the colab environment, on a data set of your choice, with the following restrictions"
      ],
      "metadata": {
        "id": "lj0FuPiUkl__"
      }
    },
    {
      "cell_type": "code",
      "execution_count": null,
      "metadata": {
        "id": "heEbb3OSkekM"
      },
      "outputs": [],
      "source": []
    }
  ]
}